{
 "cells": [
  {
   "cell_type": "code",
   "execution_count": 1,
   "metadata": {
    "collapsed": false,
    "jupyter": {
     "outputs_hidden": false
    },
    "pycharm": {
     "name": "#%%\n"
    }
   },
   "outputs": [],
   "source": [
    "import dataset\n",
    "import dtw_recognition\n",
    "import numpy as np"
   ]
  },
  {
   "cell_type": "code",
   "execution_count": 2,
   "outputs": [],
   "source": [
    "np.random.seed(42)"
   ],
   "metadata": {
    "collapsed": false,
    "pycharm": {
     "name": "#%%\n"
    }
   }
  },
  {
   "cell_type": "markdown",
   "source": [
    "# DTW"
   ],
   "metadata": {
    "collapsed": false
   }
  },
  {
   "cell_type": "code",
   "execution_count": 3,
   "metadata": {
    "collapsed": false,
    "jupyter": {
     "outputs_hidden": false
    },
    "pycharm": {
     "name": "#%%\n"
    }
   },
   "outputs": [],
   "source": [
    "config = {\n",
    "    \"data_dir\": [\"../data/train/19021396_PhamThanhVinh\"],\n",
    "    \"sr\": 22050,\n",
    "    \"n_mfcc\": 13,\n",
    "    \"hop_length\": 256,\n",
    "    \"n_fft\": 512,\n",
    "    \"delta_width\": 5,\n",
    "    \"n_sample_per_word\": 3,\n",
    "}\n",
    "df = dataset.get_dataset_df(config[\"data_dir\"], config[\"sr\"], config[\"n_mfcc\"], config[\"hop_length\"], config[\"n_fft\"],\n",
    "                   config[\"delta_width\"])\n",
    "template_df = dataset.get_template_df(df, config[\"n_sample_per_word\"])"
   ]
  },
  {
   "cell_type": "code",
   "execution_count": 4,
   "metadata": {
    "collapsed": false,
    "jupyter": {
     "outputs_hidden": false
    },
    "pycharm": {
     "name": "#%%\n"
    }
   },
   "outputs": [
    {
     "data": {
      "text/plain": "     label                                      mfcc_features\n0      sil  [[0.0, 0.36298612, 1.0, 0.67046523, 1.0, 0.109...\n1        1  [[0.0, 0.075219214, 0.5102628, 0.37972867, 0.6...\n2     tram  [[0.29391974, 0.69984466, 0.7457707, 0.3506259...\n3        4  [[0.9442609, 0.0, 0.50626904, 0.52150154, 0.72...\n4     muoi  [[1.0, 0.54144883, 0.37757295, 0.39642286, 0.0...\n...    ...                                                ...\n1775  tram  [[0.26855448, 0.39782253, 0.06277703, 0.511701...\n1776     8  [[0.006426136, 0.03151538, 1.0, 0.63716173, 0....\n1777  muoi  [[1.0, 0.16773497, 1.0, 0.20140655, 0.2975387,...\n1778    tu  [[0.3128125, 0.8595457, 0.54761374, 0.0, 0.365...\n1779   sil  [[0.5499364, 1.0, 1.0, 0.369127, 0.7081582, 0....\n\n[1779 rows x 2 columns]",
      "text/html": "<div>\n<style scoped>\n    .dataframe tbody tr th:only-of-type {\n        vertical-align: middle;\n    }\n\n    .dataframe tbody tr th {\n        vertical-align: top;\n    }\n\n    .dataframe thead th {\n        text-align: right;\n    }\n</style>\n<table border=\"1\" class=\"dataframe\">\n  <thead>\n    <tr style=\"text-align: right;\">\n      <th></th>\n      <th>label</th>\n      <th>mfcc_features</th>\n    </tr>\n  </thead>\n  <tbody>\n    <tr>\n      <th>0</th>\n      <td>sil</td>\n      <td>[[0.0, 0.36298612, 1.0, 0.67046523, 1.0, 0.109...</td>\n    </tr>\n    <tr>\n      <th>1</th>\n      <td>1</td>\n      <td>[[0.0, 0.075219214, 0.5102628, 0.37972867, 0.6...</td>\n    </tr>\n    <tr>\n      <th>2</th>\n      <td>tram</td>\n      <td>[[0.29391974, 0.69984466, 0.7457707, 0.3506259...</td>\n    </tr>\n    <tr>\n      <th>3</th>\n      <td>4</td>\n      <td>[[0.9442609, 0.0, 0.50626904, 0.52150154, 0.72...</td>\n    </tr>\n    <tr>\n      <th>4</th>\n      <td>muoi</td>\n      <td>[[1.0, 0.54144883, 0.37757295, 0.39642286, 0.0...</td>\n    </tr>\n    <tr>\n      <th>...</th>\n      <td>...</td>\n      <td>...</td>\n    </tr>\n    <tr>\n      <th>1775</th>\n      <td>tram</td>\n      <td>[[0.26855448, 0.39782253, 0.06277703, 0.511701...</td>\n    </tr>\n    <tr>\n      <th>1776</th>\n      <td>8</td>\n      <td>[[0.006426136, 0.03151538, 1.0, 0.63716173, 0....</td>\n    </tr>\n    <tr>\n      <th>1777</th>\n      <td>muoi</td>\n      <td>[[1.0, 0.16773497, 1.0, 0.20140655, 0.2975387,...</td>\n    </tr>\n    <tr>\n      <th>1778</th>\n      <td>tu</td>\n      <td>[[0.3128125, 0.8595457, 0.54761374, 0.0, 0.365...</td>\n    </tr>\n    <tr>\n      <th>1779</th>\n      <td>sil</td>\n      <td>[[0.5499364, 1.0, 1.0, 0.369127, 0.7081582, 0....</td>\n    </tr>\n  </tbody>\n</table>\n<p>1779 rows × 2 columns</p>\n</div>"
     },
     "execution_count": 4,
     "metadata": {},
     "output_type": "execute_result"
    }
   ],
   "source": [
    "df"
   ]
  },
  {
   "cell_type": "code",
   "execution_count": 5,
   "outputs": [
    {
     "data": {
      "text/plain": "['sil',\n '1',\n 'tram',\n '4',\n 'muoi',\n '9',\n 'trieu',\n '3',\n '7',\n '8',\n 'nghin',\n '6',\n '5',\n 'lam',\n '2',\n 'tu',\n '0',\n 'mot',\n 'linh',\n 'm1']"
     },
     "execution_count": 5,
     "metadata": {},
     "output_type": "execute_result"
    }
   ],
   "source": [
    "list(df[\"label\"].unique())"
   ],
   "metadata": {
    "collapsed": false,
    "pycharm": {
     "name": "#%%\n"
    }
   }
  },
  {
   "cell_type": "code",
   "execution_count": 13,
   "metadata": {
    "collapsed": false,
    "jupyter": {
     "outputs_hidden": false
    },
    "pycharm": {
     "name": "#%%\n"
    }
   },
   "outputs": [],
   "source": [
    "# avg = {}\n",
    "# min = {}\n",
    "# max = {}\n",
    "#\n",
    "# syllables = pd.DataFrame(columns=[\"label\", \"n_syllables\"])\n",
    "# syllables[\"label\"] = df[\"label\"].unique()\n",
    "# syllable_list = []\n",
    "#\n",
    "# for label in df[\"label\"].unique():\n",
    "#     dfi = df[df[\"label\"] == label]\n",
    "#     avg_i = 0\n",
    "#     min_i = np.inf\n",
    "#     max_i = 0\n",
    "#     for i in range(len(dfi)):\n",
    "#         a = dfi[\"mfcc_features\"].iloc[i].shape[0]\n",
    "#         avg_i += a\n",
    "#         if a < min_i:\n",
    "#             min_i = a\n",
    "#         if a > max_i:\n",
    "#             max_i = a\n",
    "#     avg[label] = int(avg_i/len(dfi))\n",
    "#     min[label] = min_i\n",
    "#     max[label] = max_i\n",
    "#\n",
    "# rate = 0.6\n",
    "# for i in range(len(syllables)):\n",
    "#     s_i = int(min[syllables[\"label\"].iloc[i]]*rate)\n",
    "#     if s_i >= 6:\n",
    "#         s_i -= 3\n",
    "#     syllable_list.append(s_i)\n",
    "# syllables[\"n_syllables\"] = syllable_list\n",
    "#\n",
    "# syllables.to_csv(\"../data/syllables.csv\", sep=\"\\t\", header=None, index=False)"
   ]
  },
  {
   "cell_type": "code",
   "execution_count": 14,
   "metadata": {
    "collapsed": false,
    "jupyter": {
     "outputs_hidden": false
    },
    "pycharm": {
     "name": "#%%\n"
    }
   },
   "outputs": [
    {
     "data": {
      "text/plain": "    label                                      mfcc_features\n0     sil  [[0.0, 0.0, 1.0, 0.21681933, 1.0, 1.0, 0.63988...\n1     sil  [[0.98916966, 0.9665106, 0.6104375, 0.2689894,...\n2     sil  [[1.0, 0.0, 0.8766952, 0.0, 0.59409726, 0.1476...\n3       1  [[0.0, 0.0, 0.7700621, 0.6620277, 0.8244615, 0...\n4       1  [[1.0, 0.1181881, 0.7809504, 0.49549296, 0.994...\n5       1  [[0.0, 0.0, 0.18497944, 0.17161536, 0.72778875...\n6    tram  [[0.0, 0.44544995, 0.97258705, 0.5779728, 0.94...\n7    tram  [[0.123844154, 0.5532935, 0.9188345, 0.3868457...\n8    tram  [[0.03165088, 0.70897883, 0.58971876, 0.478225...\n9       4  [[0.07372889, 0.57898265, 0.6029618, 0.7811839...\n10      4  [[0.05902074, 0.18096934, 0.47684637, 0.237299...\n11      4  [[0.9442609, 0.0, 0.50626904, 0.52150154, 0.72...\n12   muoi  [[1.0, 0.002145165, 0.96556723, 0.11254001, 0....\n13   muoi  [[1.0, 0.0, 0.7859149, 0.20828155, 0.303152, 0...\n14   muoi  [[1.0, 0.12764804, 0.89838797, 0.48883852, 0.0...\n15      9  [[0.690549, 0.56920636, 0.55971926, 0.40159553...\n16      9  [[0.7200727, 0.519645, 0.2532389, 0.0, 0.25526...\n17      9  [[0.6405902, 0.5733721, 0.32532364, 0.0, 0.275...\n18  trieu  [[0.5450039, 0.11493561, 0.7057726, 0.63464814...\n19  trieu  [[0.20535818, 0.702594, 0.6046637, 0.15320604,...\n20  trieu  [[0.25328785, 0.6221644, 0.86120766, 0.5604245...\n21      3  [[0.11963319, 0.070801355, 0.7366149, 0.968653...\n22      3  [[0.16345535, 0.17589532, 0.4726375, 0.876809,...\n23      3  [[0.8488083, 0.0, 0.6422793, 0.78615135, 0.961...\n24      7  [[0.813325, 0.3141616, 0.783087, 0.18317358, 0...\n25      7  [[0.0, 0.0, 0.68054074, 0.5829061, 0.8252366, ...\n26      7  [[0.0, 0.036726583, 0.7358796, 0.27441522, 0.3...\n27      8  [[0.0, 0.41431987, 0.62867695, 0.46537524, 0.8...\n28      8  [[0.04053041, 0.11248343, 0.66711557, 0.516649...\n29      8  [[0.0, 0.11004019, 1.0, 1.0, 0.92647606, 0.380...\n30  nghin  [[0.76457876, 0.6506528, 0.92981195, 0.0265419...\n31  nghin  [[1.0, 0.17667922, 0.501854, 0.0, 0.37876478, ...\n32  nghin  [[1.0, 0.19925682, 0.6012188, 0.019006684, 0.0...\n33      6  [[0.35455143, 0.15099311, 0.3623697, 0.6771382...\n34      6  [[0.0, 0.13124529, 0.4991935, 0.6468164, 0.998...\n35      6  [[0.3857506, 0.15498593, 1.0, 0.64706534, 0.59...\n36      5  [[0.20449713, 0.9357886, 0.82763886, 0.9766568...\n37      5  [[0.19616547, 0.0674155, 1.0, 1.0, 0.7232796, ...\n38      5  [[0.0, 0.0, 0.73928976, 0.7209718, 0.6956713, ...\n39    lam  [[0.89677966, 0.005211666, 0.73729885, 1.0, 0....\n40    lam  [[1.0, 0.324046, 0.5582777, 0.78083646, 0.5856...\n41    lam  [[0.74959433, 0.014962181, 0.80300856, 0.74047...\n42      2  [[0.0, 0.20937145, 0.86131483, 0.2902269, 1.0,...\n43      2  [[0.8643414, 0.0, 1.0, 0.5567739, 1.0, 0.34159...\n44      2  [[0.0, 0.038837317, 0.084546804, 0.476498, 0.9...\n45     tu  [[0.10128219, 0.0, 0.6483268, 0.62944824, 0.58...\n46     tu  [[0.25127658, 0.9078149, 1.0, 0.49593765, 0.50...\n47     tu  [[0.37921694, 0.33858892, 0.52189624, 0.858330...\n48      0  [[0.37965712, 0.08924126, 0.06595427, 0.0, 0.2...\n49      0  [[0.0, 0.17651246, 0.68649954, 0.103306174, 0....\n50      0  [[0.19515829, 0.14112863, 0.047499407, 0.02861...\n51    mot  [[0.933054, 0.18274164, 0.86503094, 0.67170155...\n52    mot  [[1.0, 0.0, 0.40312427, 0.64226365, 0.54963356...\n53    mot  [[1.0, 0.00017212829, 0.5341652, 1.0, 1.0, 1.0...\n54   linh  [[1.0, 0.0, 0.6517278, 0.23712972, 0.54524046,...\n55   linh  [[1.0, 0.4101055, 1.0, 0.04140515, 0.0, 1.0, 1...\n56   linh  [[1.0, 0.0, 0.4203333, 0.0, 0.08851194, 0.6787...\n57     m1  [[1.0, 0.41374743, 1.0, 0.24184102, 0.7102017,...\n58     m1  [[1.0, 0.0, 0.7169589, 0.100533135, 0.3323132,...\n59     m1  [[0.6032568, 0.0, 1.0, 0.67134184, 0.35359886,...",
      "text/html": "<div>\n<style scoped>\n    .dataframe tbody tr th:only-of-type {\n        vertical-align: middle;\n    }\n\n    .dataframe tbody tr th {\n        vertical-align: top;\n    }\n\n    .dataframe thead th {\n        text-align: right;\n    }\n</style>\n<table border=\"1\" class=\"dataframe\">\n  <thead>\n    <tr style=\"text-align: right;\">\n      <th></th>\n      <th>label</th>\n      <th>mfcc_features</th>\n    </tr>\n  </thead>\n  <tbody>\n    <tr>\n      <th>0</th>\n      <td>sil</td>\n      <td>[[0.0, 0.0, 1.0, 0.21681933, 1.0, 1.0, 0.63988...</td>\n    </tr>\n    <tr>\n      <th>1</th>\n      <td>sil</td>\n      <td>[[0.98916966, 0.9665106, 0.6104375, 0.2689894,...</td>\n    </tr>\n    <tr>\n      <th>2</th>\n      <td>sil</td>\n      <td>[[1.0, 0.0, 0.8766952, 0.0, 0.59409726, 0.1476...</td>\n    </tr>\n    <tr>\n      <th>3</th>\n      <td>1</td>\n      <td>[[0.0, 0.0, 0.7700621, 0.6620277, 0.8244615, 0...</td>\n    </tr>\n    <tr>\n      <th>4</th>\n      <td>1</td>\n      <td>[[1.0, 0.1181881, 0.7809504, 0.49549296, 0.994...</td>\n    </tr>\n    <tr>\n      <th>5</th>\n      <td>1</td>\n      <td>[[0.0, 0.0, 0.18497944, 0.17161536, 0.72778875...</td>\n    </tr>\n    <tr>\n      <th>6</th>\n      <td>tram</td>\n      <td>[[0.0, 0.44544995, 0.97258705, 0.5779728, 0.94...</td>\n    </tr>\n    <tr>\n      <th>7</th>\n      <td>tram</td>\n      <td>[[0.123844154, 0.5532935, 0.9188345, 0.3868457...</td>\n    </tr>\n    <tr>\n      <th>8</th>\n      <td>tram</td>\n      <td>[[0.03165088, 0.70897883, 0.58971876, 0.478225...</td>\n    </tr>\n    <tr>\n      <th>9</th>\n      <td>4</td>\n      <td>[[0.07372889, 0.57898265, 0.6029618, 0.7811839...</td>\n    </tr>\n    <tr>\n      <th>10</th>\n      <td>4</td>\n      <td>[[0.05902074, 0.18096934, 0.47684637, 0.237299...</td>\n    </tr>\n    <tr>\n      <th>11</th>\n      <td>4</td>\n      <td>[[0.9442609, 0.0, 0.50626904, 0.52150154, 0.72...</td>\n    </tr>\n    <tr>\n      <th>12</th>\n      <td>muoi</td>\n      <td>[[1.0, 0.002145165, 0.96556723, 0.11254001, 0....</td>\n    </tr>\n    <tr>\n      <th>13</th>\n      <td>muoi</td>\n      <td>[[1.0, 0.0, 0.7859149, 0.20828155, 0.303152, 0...</td>\n    </tr>\n    <tr>\n      <th>14</th>\n      <td>muoi</td>\n      <td>[[1.0, 0.12764804, 0.89838797, 0.48883852, 0.0...</td>\n    </tr>\n    <tr>\n      <th>15</th>\n      <td>9</td>\n      <td>[[0.690549, 0.56920636, 0.55971926, 0.40159553...</td>\n    </tr>\n    <tr>\n      <th>16</th>\n      <td>9</td>\n      <td>[[0.7200727, 0.519645, 0.2532389, 0.0, 0.25526...</td>\n    </tr>\n    <tr>\n      <th>17</th>\n      <td>9</td>\n      <td>[[0.6405902, 0.5733721, 0.32532364, 0.0, 0.275...</td>\n    </tr>\n    <tr>\n      <th>18</th>\n      <td>trieu</td>\n      <td>[[0.5450039, 0.11493561, 0.7057726, 0.63464814...</td>\n    </tr>\n    <tr>\n      <th>19</th>\n      <td>trieu</td>\n      <td>[[0.20535818, 0.702594, 0.6046637, 0.15320604,...</td>\n    </tr>\n    <tr>\n      <th>20</th>\n      <td>trieu</td>\n      <td>[[0.25328785, 0.6221644, 0.86120766, 0.5604245...</td>\n    </tr>\n    <tr>\n      <th>21</th>\n      <td>3</td>\n      <td>[[0.11963319, 0.070801355, 0.7366149, 0.968653...</td>\n    </tr>\n    <tr>\n      <th>22</th>\n      <td>3</td>\n      <td>[[0.16345535, 0.17589532, 0.4726375, 0.876809,...</td>\n    </tr>\n    <tr>\n      <th>23</th>\n      <td>3</td>\n      <td>[[0.8488083, 0.0, 0.6422793, 0.78615135, 0.961...</td>\n    </tr>\n    <tr>\n      <th>24</th>\n      <td>7</td>\n      <td>[[0.813325, 0.3141616, 0.783087, 0.18317358, 0...</td>\n    </tr>\n    <tr>\n      <th>25</th>\n      <td>7</td>\n      <td>[[0.0, 0.0, 0.68054074, 0.5829061, 0.8252366, ...</td>\n    </tr>\n    <tr>\n      <th>26</th>\n      <td>7</td>\n      <td>[[0.0, 0.036726583, 0.7358796, 0.27441522, 0.3...</td>\n    </tr>\n    <tr>\n      <th>27</th>\n      <td>8</td>\n      <td>[[0.0, 0.41431987, 0.62867695, 0.46537524, 0.8...</td>\n    </tr>\n    <tr>\n      <th>28</th>\n      <td>8</td>\n      <td>[[0.04053041, 0.11248343, 0.66711557, 0.516649...</td>\n    </tr>\n    <tr>\n      <th>29</th>\n      <td>8</td>\n      <td>[[0.0, 0.11004019, 1.0, 1.0, 0.92647606, 0.380...</td>\n    </tr>\n    <tr>\n      <th>30</th>\n      <td>nghin</td>\n      <td>[[0.76457876, 0.6506528, 0.92981195, 0.0265419...</td>\n    </tr>\n    <tr>\n      <th>31</th>\n      <td>nghin</td>\n      <td>[[1.0, 0.17667922, 0.501854, 0.0, 0.37876478, ...</td>\n    </tr>\n    <tr>\n      <th>32</th>\n      <td>nghin</td>\n      <td>[[1.0, 0.19925682, 0.6012188, 0.019006684, 0.0...</td>\n    </tr>\n    <tr>\n      <th>33</th>\n      <td>6</td>\n      <td>[[0.35455143, 0.15099311, 0.3623697, 0.6771382...</td>\n    </tr>\n    <tr>\n      <th>34</th>\n      <td>6</td>\n      <td>[[0.0, 0.13124529, 0.4991935, 0.6468164, 0.998...</td>\n    </tr>\n    <tr>\n      <th>35</th>\n      <td>6</td>\n      <td>[[0.3857506, 0.15498593, 1.0, 0.64706534, 0.59...</td>\n    </tr>\n    <tr>\n      <th>36</th>\n      <td>5</td>\n      <td>[[0.20449713, 0.9357886, 0.82763886, 0.9766568...</td>\n    </tr>\n    <tr>\n      <th>37</th>\n      <td>5</td>\n      <td>[[0.19616547, 0.0674155, 1.0, 1.0, 0.7232796, ...</td>\n    </tr>\n    <tr>\n      <th>38</th>\n      <td>5</td>\n      <td>[[0.0, 0.0, 0.73928976, 0.7209718, 0.6956713, ...</td>\n    </tr>\n    <tr>\n      <th>39</th>\n      <td>lam</td>\n      <td>[[0.89677966, 0.005211666, 0.73729885, 1.0, 0....</td>\n    </tr>\n    <tr>\n      <th>40</th>\n      <td>lam</td>\n      <td>[[1.0, 0.324046, 0.5582777, 0.78083646, 0.5856...</td>\n    </tr>\n    <tr>\n      <th>41</th>\n      <td>lam</td>\n      <td>[[0.74959433, 0.014962181, 0.80300856, 0.74047...</td>\n    </tr>\n    <tr>\n      <th>42</th>\n      <td>2</td>\n      <td>[[0.0, 0.20937145, 0.86131483, 0.2902269, 1.0,...</td>\n    </tr>\n    <tr>\n      <th>43</th>\n      <td>2</td>\n      <td>[[0.8643414, 0.0, 1.0, 0.5567739, 1.0, 0.34159...</td>\n    </tr>\n    <tr>\n      <th>44</th>\n      <td>2</td>\n      <td>[[0.0, 0.038837317, 0.084546804, 0.476498, 0.9...</td>\n    </tr>\n    <tr>\n      <th>45</th>\n      <td>tu</td>\n      <td>[[0.10128219, 0.0, 0.6483268, 0.62944824, 0.58...</td>\n    </tr>\n    <tr>\n      <th>46</th>\n      <td>tu</td>\n      <td>[[0.25127658, 0.9078149, 1.0, 0.49593765, 0.50...</td>\n    </tr>\n    <tr>\n      <th>47</th>\n      <td>tu</td>\n      <td>[[0.37921694, 0.33858892, 0.52189624, 0.858330...</td>\n    </tr>\n    <tr>\n      <th>48</th>\n      <td>0</td>\n      <td>[[0.37965712, 0.08924126, 0.06595427, 0.0, 0.2...</td>\n    </tr>\n    <tr>\n      <th>49</th>\n      <td>0</td>\n      <td>[[0.0, 0.17651246, 0.68649954, 0.103306174, 0....</td>\n    </tr>\n    <tr>\n      <th>50</th>\n      <td>0</td>\n      <td>[[0.19515829, 0.14112863, 0.047499407, 0.02861...</td>\n    </tr>\n    <tr>\n      <th>51</th>\n      <td>mot</td>\n      <td>[[0.933054, 0.18274164, 0.86503094, 0.67170155...</td>\n    </tr>\n    <tr>\n      <th>52</th>\n      <td>mot</td>\n      <td>[[1.0, 0.0, 0.40312427, 0.64226365, 0.54963356...</td>\n    </tr>\n    <tr>\n      <th>53</th>\n      <td>mot</td>\n      <td>[[1.0, 0.00017212829, 0.5341652, 1.0, 1.0, 1.0...</td>\n    </tr>\n    <tr>\n      <th>54</th>\n      <td>linh</td>\n      <td>[[1.0, 0.0, 0.6517278, 0.23712972, 0.54524046,...</td>\n    </tr>\n    <tr>\n      <th>55</th>\n      <td>linh</td>\n      <td>[[1.0, 0.4101055, 1.0, 0.04140515, 0.0, 1.0, 1...</td>\n    </tr>\n    <tr>\n      <th>56</th>\n      <td>linh</td>\n      <td>[[1.0, 0.0, 0.4203333, 0.0, 0.08851194, 0.6787...</td>\n    </tr>\n    <tr>\n      <th>57</th>\n      <td>m1</td>\n      <td>[[1.0, 0.41374743, 1.0, 0.24184102, 0.7102017,...</td>\n    </tr>\n    <tr>\n      <th>58</th>\n      <td>m1</td>\n      <td>[[1.0, 0.0, 0.7169589, 0.100533135, 0.3323132,...</td>\n    </tr>\n    <tr>\n      <th>59</th>\n      <td>m1</td>\n      <td>[[0.6032568, 0.0, 1.0, 0.67134184, 0.35359886,...</td>\n    </tr>\n  </tbody>\n</table>\n</div>"
     },
     "execution_count": 14,
     "metadata": {},
     "output_type": "execute_result"
    }
   ],
   "source": [
    "template_df"
   ]
  },
  {
   "cell_type": "code",
   "execution_count": 15,
   "metadata": {
    "collapsed": false,
    "jupyter": {
     "outputs_hidden": false
    },
    "pycharm": {
     "name": "#%%\n"
    }
   },
   "outputs": [],
   "source": [
    "new_template_df = dtw_recognition.reduce_models(template_df, \"../data/syllables.csv\")"
   ]
  },
  {
   "cell_type": "code",
   "execution_count": 16,
   "metadata": {
    "collapsed": false,
    "jupyter": {
     "outputs_hidden": false
    },
    "pycharm": {
     "name": "#%%\n"
    }
   },
   "outputs": [],
   "source": [
    "choice_indexes = np.random.choice(len(df), 100, replace=False)\n",
    "test_mfcc_features = list(df.loc[choice_indexes, \"mfcc_features\"])"
   ]
  },
  {
   "cell_type": "code",
   "execution_count": 17,
   "metadata": {
    "collapsed": false,
    "jupyter": {
     "outputs_hidden": false
    },
    "pycharm": {
     "name": "#%%\n"
    }
   },
   "outputs": [
    {
     "data": {
      "text/plain": "      label                                      mfcc_features\n1192    sil  [[1.0, 0.23899186, 0.861323, 0.0, 0.35400915, ...\n426   nghin  [[0.9680871, 0.47679815, 0.89284927, 0.0, 0.52...\n1475      2  [[0.2106057, 0.0, 0.36059535, 0.72391516, 1.0,...\n765       3  [[0.05818045, 0.0, 1.0, 0.9120276, 0.72712815,...\n485    tram  [[0.18089612, 0.568977, 0.7462516, 0.4967905, ...\n...     ...                                                ...\n598   trieu  [[0.35030463, 0.44171703, 0.77174234, 0.395985...\n939    muoi  [[1.0, 0.5335298, 0.6074466, 0.13665825, 0.0, ...\n367     sil  [[0.38811898, 0.23959908, 0.90351385, 0.273567...\n162       7  [[0.13198762, 0.5267974, 1.0, 0.5493203, 0.526...\n332     sil  [[0.6941426, 0.61388147, 1.0, 0.35843393, 0.93...\n\n[100 rows x 2 columns]",
      "text/html": "<div>\n<style scoped>\n    .dataframe tbody tr th:only-of-type {\n        vertical-align: middle;\n    }\n\n    .dataframe tbody tr th {\n        vertical-align: top;\n    }\n\n    .dataframe thead th {\n        text-align: right;\n    }\n</style>\n<table border=\"1\" class=\"dataframe\">\n  <thead>\n    <tr style=\"text-align: right;\">\n      <th></th>\n      <th>label</th>\n      <th>mfcc_features</th>\n    </tr>\n  </thead>\n  <tbody>\n    <tr>\n      <th>1192</th>\n      <td>sil</td>\n      <td>[[1.0, 0.23899186, 0.861323, 0.0, 0.35400915, ...</td>\n    </tr>\n    <tr>\n      <th>426</th>\n      <td>nghin</td>\n      <td>[[0.9680871, 0.47679815, 0.89284927, 0.0, 0.52...</td>\n    </tr>\n    <tr>\n      <th>1475</th>\n      <td>2</td>\n      <td>[[0.2106057, 0.0, 0.36059535, 0.72391516, 1.0,...</td>\n    </tr>\n    <tr>\n      <th>765</th>\n      <td>3</td>\n      <td>[[0.05818045, 0.0, 1.0, 0.9120276, 0.72712815,...</td>\n    </tr>\n    <tr>\n      <th>485</th>\n      <td>tram</td>\n      <td>[[0.18089612, 0.568977, 0.7462516, 0.4967905, ...</td>\n    </tr>\n    <tr>\n      <th>...</th>\n      <td>...</td>\n      <td>...</td>\n    </tr>\n    <tr>\n      <th>598</th>\n      <td>trieu</td>\n      <td>[[0.35030463, 0.44171703, 0.77174234, 0.395985...</td>\n    </tr>\n    <tr>\n      <th>939</th>\n      <td>muoi</td>\n      <td>[[1.0, 0.5335298, 0.6074466, 0.13665825, 0.0, ...</td>\n    </tr>\n    <tr>\n      <th>367</th>\n      <td>sil</td>\n      <td>[[0.38811898, 0.23959908, 0.90351385, 0.273567...</td>\n    </tr>\n    <tr>\n      <th>162</th>\n      <td>7</td>\n      <td>[[0.13198762, 0.5267974, 1.0, 0.5493203, 0.526...</td>\n    </tr>\n    <tr>\n      <th>332</th>\n      <td>sil</td>\n      <td>[[0.6941426, 0.61388147, 1.0, 0.35843393, 0.93...</td>\n    </tr>\n  </tbody>\n</table>\n<p>100 rows × 2 columns</p>\n</div>"
     },
     "execution_count": 17,
     "metadata": {},
     "output_type": "execute_result"
    }
   ],
   "source": [
    "df.iloc[choice_indexes]"
   ]
  },
  {
   "cell_type": "code",
   "execution_count": 18,
   "metadata": {
    "collapsed": false,
    "jupyter": {
     "outputs_hidden": false
    },
    "pycharm": {
     "name": "#%%\n"
    }
   },
   "outputs": [],
   "source": [
    "# preds = dtw_recognition.predict(template_df, test_mfcc_features, 2)\n",
    "# preds = dtw_recognition.predict(new_template_df, test_mfcc_features, 2)"
   ]
  },
  {
   "cell_type": "code",
   "execution_count": 19,
   "metadata": {
    "collapsed": false,
    "jupyter": {
     "outputs_hidden": false
    },
    "pycharm": {
     "name": "#%%\n"
    }
   },
   "outputs": [
    {
     "ename": "NameError",
     "evalue": "name 'preds' is not defined",
     "output_type": "error",
     "traceback": [
      "\u001B[0;31m---------------------------------------------------------------------------\u001B[0m",
      "\u001B[0;31mNameError\u001B[0m                                 Traceback (most recent call last)",
      "\u001B[0;32m/tmp/ipykernel_14248/974871317.py\u001B[0m in \u001B[0;36m<module>\u001B[0;34m\u001B[0m\n\u001B[0;32m----> 1\u001B[0;31m \u001B[0mprint\u001B[0m\u001B[0;34m(\u001B[0m\u001B[0;34mf'Accuracy: {np.sum(preds == df.loc[choice_indexes, \"label\"])/len(preds)}'\u001B[0m\u001B[0;34m)\u001B[0m\u001B[0;34m\u001B[0m\u001B[0;34m\u001B[0m\u001B[0m\n\u001B[0m",
      "\u001B[0;31mNameError\u001B[0m: name 'preds' is not defined"
     ]
    }
   ],
   "source": [
    "print(f'Accuracy: {np.sum(preds == df.loc[choice_indexes, \"label\"])/len(preds)}')"
   ]
  },
  {
   "cell_type": "markdown",
   "source": [
    "# HMM"
   ],
   "metadata": {
    "collapsed": false
   }
  },
  {
   "cell_type": "code",
   "execution_count": 23,
   "outputs": [
    {
     "data": {
      "text/plain": "array([ True, False, False, False, False, False, False,  True,  True,\n       False, False, False, False, False, False, False, False, False,\n        True, False, False, False,  True, False, False, False, False,\n       False, False, False, False, False, False,  True, False, False,\n        True, False, False, False, False, False, False, False, False,\n        True,  True, False, False, False, False, False,  True, False,\n        True, False, False, False,  True, False, False, False, False,\n       False, False, False,  True, False, False, False, False, False,\n       False,  True, False, False,  True, False, False, False, False,\n       False, False, False, False, False, False, False, False, False,\n       False, False, False,  True,  True, False, False,  True, False,\n        True])"
     },
     "execution_count": 23,
     "metadata": {},
     "output_type": "execute_result"
    }
   ],
   "source": [
    "np.array(df.loc[choice_indexes, \"label\"]) == \"sil\""
   ],
   "metadata": {
    "collapsed": false,
    "pycharm": {
     "name": "#%%\n"
    }
   }
  },
  {
   "cell_type": "code",
   "execution_count": null,
   "outputs": [],
   "source": [],
   "metadata": {
    "collapsed": false,
    "pycharm": {
     "name": "#%%\n"
    }
   }
  }
 ],
 "metadata": {
  "kernelspec": {
   "display_name": "PyCharm (gan-mnist)",
   "language": "python",
   "name": "pycharm-194c7a3c"
  },
  "language_info": {
   "codemirror_mode": {
    "name": "ipython",
    "version": 3
   },
   "file_extension": ".py",
   "mimetype": "text/x-python",
   "name": "python",
   "nbconvert_exporter": "python",
   "pygments_lexer": "ipython3",
   "version": "3.9.7"
  }
 },
 "nbformat": 4,
 "nbformat_minor": 4
}